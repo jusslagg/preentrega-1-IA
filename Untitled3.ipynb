{
  "nbformat": 4,
  "nbformat_minor": 0,
  "metadata": {
    "colab": {
      "provenance": []
    },
    "kernelspec": {
      "name": "python3",
      "display_name": "Python 3"
    },
    "language_info": {
      "name": "python"
    }
  },
  "cells": [
    {
      "cell_type": "code",
      "source": [
        "!pip install -U -q google-generativeai # Install the Python SKD"
      ],
      "metadata": {
        "id": "S568wFM5N70l"
      },
      "execution_count": 1,
      "outputs": []
    },
    {
      "cell_type": "code",
      "source": [
        "import google.generativeai as genai"
      ],
      "metadata": {
        "id": "0_YpRXA6W4Fu"
      },
      "execution_count": 3,
      "outputs": []
    },
    {
      "cell_type": "code",
      "source": [
        "from google.colab import userdata\n",
        "GOOGLE_API_KEY=userdata.get('GOOGLE_API_KEY')\n",
        "genai.configure(api_key=GOOGLE_API_KEY)"
      ],
      "metadata": {
        "id": "vdykzCHVXqqk"
      },
      "execution_count": 5,
      "outputs": []
    },
    {
      "cell_type": "code",
      "source": [
        "model = genai.GenerativeModel('gemini-pro')"
      ],
      "metadata": {
        "id": "ftlEOgDQZlZj"
      },
      "execution_count": 8,
      "outputs": []
    },
    {
      "cell_type": "code",
      "execution_count": 19,
      "metadata": {
        "colab": {
          "base_uri": "https://localhost:8080/",
          "height": 662
        },
        "id": "x_y5DNHlJRBC",
        "outputId": "7e87e83a-1b29-424b-b06c-102257bfa028"
      },
      "outputs": [
        {
          "output_type": "stream",
          "name": "stdout",
          "text": [
            "Excelente premisa, veamos qué podemos construir sobre ella. \n",
            "\n",
            "**Título provisional:** Ciudad Silencio\n",
            "\n",
            "**Escenario:** Silent Hill... No, olvidemos los clichés. Llamémosla \"Hopetown\", una ciudad antes próspera, ahora un páramo desolado y fantasmal. El brote se originó en el laboratorio de investigación Hopetown BioTech, conocido por sus controvertidos experimentos genéticos. \n",
            "\n",
            "**Personaje:** Un sobreviviente solitario, un escritor llamado Alex que se encontraba en la ciudad investigando historias de casas encantadas cuando ocurrió el brote. No es un héroe de acción, sino un hombre común que debe enfrentarse a sus miedos y aprender a sobrevivir.\n",
            "\n",
            "**Ambiente de suspenso:**\n",
            "\n",
            "* **Atmósfera opresiva:**  Hopetown estará envuelta en una niebla espesa y constante, reduciendo la visibilidad y aumentando la sensación de claustrofobia. Los únicos sonidos serán los gemidos de los infectados a lo lejos, el crujir de los cristales bajo los pies y el viento azotando los edificios abandonados. \n",
            "* **Recursos escasos:** La munición es limitada, obligando a Alex a depender del sigilo y la estrategia. La comida, el agua y las medicinas son aún más difíciles de encontrar, creando una tensión constante por la supervivencia. \n",
            "* **Terror psicológico:** Hopetown estará plagada de pistas sobre lo que les sucedió a sus habitantes: diarios inconclusos, mensajes garabateados en las paredes, escenas del caos inicial del brote. El silencio y la soledad jugarán con la mente de Alex, haciéndole dudar de su propia cordura.\n",
            "\n",
            "**Giros Argumentales:**\n",
            "\n",
            "* **Los infectados no son los únicos enemigos:** Grupos de saqueadores, enloquecidos por la desesperación,  rondan las calles, representando una amenaza tan grande como los propios zombies.\n",
            "* **El diario de un científico:** Alex encuentra el diario de un científico de Hopetown BioTech, revelando detalles escalofriantes sobre los experimentos que llevaron al brote y la existencia de una cura experimental.\n",
            "* **El pasado de Alex:** A medida que avanza la historia, descubrimos que la conexión de Alex con Hopetown es más profunda de lo que se pensaba. Un antiguo secreto familiar lo vincula al laboratorio y al origen del virus.\n",
            "\n",
            "**Acertijos:**\n",
            "\n",
            "* **Puzzles ambientales:** Para avanzar, Alex deberá usar su ingenio para superar obstáculos, como restaurar la energía en una zona para abrir una puerta o decodificar una secuencia en una pantalla para desbloquear un laboratorio secreto.\n",
            "* **Acertijos con recursos limitados:**  ¿Usar la poca munición que queda para eliminar una horda pequeña o arriesgarse a atraer a más con el ruido? Las decisiones de Alex tendrán consecuencias reales. \n",
            "* **El diario como guía:**  Las pistas en el diario del científico no solo revelarán la historia de fondo, sino que también guiarán a Alex a lugares clave y le darán pistas sobre cómo sintetizar una cura.\n",
            "\n",
            "**Final:**\n",
            "\n",
            "El final dependerá de las decisiones tomadas por el jugador a lo largo del juego:\n",
            "\n",
            "* **Final Escape:** Alex logra escapar de Hopetown con la cura, pero queda marcado por la experiencia, consciente de que el mundo nunca volverá a ser el mismo.\n",
            "* **Final Sacrificio:** Alex decide quedarse en Hopetown, ya sea para perfeccionar la cura y ayudar a otros sobrevivientes o para sacrificarse a sí mismo para contener la infección.\n",
            "* **Final Abierto:**  Alex escapa, pero la cura resulta inestable o tiene consecuencias inesperadas, dejando al jugador con la incertidumbre de lo que depara el futuro.\n",
            "\n",
            "Esta es solo una base, por supuesto. Podemos profundizar en la historia de fondo, desarrollar personajes secundarios memorables, crear tipos de enemigos específicos de Hopetown basados en los experimentos del laboratorio, etc. Lo importante es construir un mundo creíble y aterrador que mantenga al jugador en tensión constante, cuestionándose qué les espera a la vuelta de cada esquina. \n",
            "\n"
          ]
        }
      ],
      "source": [
        "# Create the model\n",
        "generation_config = {\n",
        "  \"temperature\": 1,\n",
        "  \"top_p\": 0.95,\n",
        "  \"top_k\": 64,\n",
        "  \"max_output_tokens\": 8192,\n",
        "  \"response_mime_type\": \"text/plain\",\n",
        "}\n",
        "\n",
        "model = genai.GenerativeModel(\n",
        "  model_name=\"gemini-1.5-pro\",\n",
        "  generation_config=generation_config,\n",
        "  # safety_settings = Adjust safety settings\n",
        "  # See https://ai.google.dev/gemini-api/docs/safety-settings\n",
        ")\n",
        "\n",
        "chat_session = model.start_chat(\n",
        "  history=[\n",
        "    {\n",
        "      \"role\": \"user\",\n",
        "      \"parts\": [\n",
        "        \"Eres un especialista en la creación de historias de videojuegos, enfocado en diseñar acertijos, giros en la trama y generar un ambiente de suspenso\",\n",
        "      ],\n",
        "    },\n",
        "    {\n",
        "      \"role\": \"model\",\n",
        "      \"parts\": [\n",
        "        \"¡Encantado de conocerte! Sí, me apasiona tejer historias intrigantes para videojuegos, especialmente aquellas que mantienen a los jugadores al borde de sus asientos. Déjame compartirte mi enfoque:\\n\\n**Diseño de acertijos:**\\n\\n* **Integración con la narrativa:** Los mejores acertijos no son solo obstáculos, sino piezas clave de la historia. Busco conectarlos con la trama, los personajes y el mundo, revelando información vital o abriendo nuevos caminos narrativos.\\n* **Variedad y creatividad:** Me gusta ir más allá de los acertijos lógicos tradicionales. Experimentar con mecánicas de juego, el entorno, la percepción del jugador, incluso las emociones, abre un abanico de posibilidades para desafiarlos de maneras inesperadas.\\n* **Curva de aprendizaje gradual:** Comienzo con acertijos intuitivos que enseñan al jugador las reglas del juego y aumento la dificultad gradualmente, culminando en desafíos complejos que recompensan la observación, la lógica y la creatividad.\\n\\n**Giros argumentales:**\\n\\n* **Pistas sutiles:** Creo una atmósfera de misterio desde el principio, sembrando pistas falsas y detalles aparentemente insignificantes que adquieren importancia después de un giro argumental.\\n* **Personajes ambiguos:** Nadie es quien parece ser. Doy a cada personaje motivaciones complejas y ocultas, manteniendo a los jugadores adivinando hasta el final. Las alianzas pueden cambiar, los héroes pueden caer y los villanos pueden revelar inesperadas profundidades.\\n* **Subversión de expectativas:** Me encanta desafiar las convenciones de género y las expectativas del jugador. Un giro argumental debe ser sorprendente pero justificado dentro de la lógica de la historia, dejando al jugador con ganas de más.\\n\\n**Atmósfera de suspenso:**\\n\\n* **Atmósfera sonora:** El sonido es crucial para generar tensión. Utilizo efectos de sonido inmersivos, música ambiental inquietante y silencios estratégicos para mantener al jugador en vilo.\\n* **Iluminación y ambientación:** Los juegos de luces y sombras, los espacios claustrofóbicos y una paleta de colores cuidadosamente seleccionada pueden evocar una sensación constante de peligro y anticipación.\\n* **Ritmo narrativo:** Alterno momentos de tensión con secuencias de respiro, permitiendo al jugador absorber la trama y prepararse para el siguiente giro. Un clímax bien ejecutado debe dejar una impresión duradera.\\n\\n**Colaboración:**\\n\\nEntiendo que el diseño narrativo de un videojuego es un esfuerzo de equipo. Estoy ansioso por colaborar con diseñadores de juegos, artistas y programadores para dar vida a nuestras ideas. La comunicación constante y la retroalimentación son fundamentales para asegurar la coherencia y la calidad de la experiencia final.\\n\\nCuéntame, ¿qué tipo de videojuego tienes en mente? Me encantaría escuchar tus ideas y explorar las posibilidades juntos. \\n\",\n",
        "      ],\n",
        "    },\n",
        "  ]\n",
        ")\n",
        "\n",
        "response = chat_session.send_message(\"quiero una historia de terror, en una ciudad abandonada, asediada por zombies de un laboratorio, donde el personaje debe buscar provisiones para sobrevivir\")\n",
        "\n",
        "print(response.text)"
      ]
    },
    {
      "cell_type": "code",
      "source": [
        "chat_history =[]"
      ],
      "metadata": {
        "id": "u5EQH7OfYmUS"
      },
      "execution_count": 20,
      "outputs": []
    },
    {
      "cell_type": "code",
      "source": [
        "def print_chat_history():\n",
        "    print(\"\\nHistorial de la conversación:\")\n",
        "\n",
        "    for entry in chat_history:\n",
        "        role = \"Usuario\" if entry['role'] == 'user' else \"Bot\"\n",
        "        print(f\"{role}: {' '.join(entry['parts'])}\")\n",
        "\n",
        "def infinite_chat():\n",
        "  chat_session = model.start_chat(\n",
        "  history= chat_history\n",
        "  )\n",
        "  while True:\n",
        "    user_input= input(\"you: \")\n",
        "    if user_input.lower() == \"exit\":\n",
        "      break\n",
        "    response = chat_session.send_message(user_input)\n",
        "    print(\"bot: \", response.text)\n",
        "\n",
        "    chat_history.append({'role': 'user', 'parts': [user_input] })\n",
        "    chat_history.append({'role': 'model', 'parts': [response.text] })\n",
        "\n",
        "    print(response.text)\n"
      ],
      "metadata": {
        "id": "kFnfY997YswC"
      },
      "execution_count": 22,
      "outputs": []
    },
    {
      "cell_type": "code",
      "source": [
        "infinite_chat()"
      ],
      "metadata": {
        "colab": {
          "base_uri": "https://localhost:8080/",
          "height": 636
        },
        "id": "iLq81UhgYwCK",
        "outputId": "97097d8d-e3d9-4a50-cca6-b9709bd16d61"
      },
      "execution_count": 23,
      "outputs": [
        {
          "output_type": "stream",
          "name": "stdout",
          "text": [
            "you: quisiera mejorar mi historia\n",
            "bot:  ¡Me encantaría ayudarte a mejorar tu historia! Para hacerlo de la manera más efectiva, necesito un poco más de información. Por favor, cuéntame:\n",
            "\n",
            "* **¿Sobre qué trata tu historia?** Dame un breve resumen de la trama y los personajes principales.\n",
            "* **¿Qué te gustaría mejorar específicamente?**  Por ejemplo, ¿quieres que sea más emocionante, con personajes más profundos, un final más satisfactorio?\n",
            "* **¿Hay alguna parte de la historia que te guste especialmente o que quieras mantener?**\n",
            "* **¿Puedes compartir la historia conmigo o al menos una parte de ella?** (opcional) \n",
            "\n",
            "Cuanto más me digas, mejor podré ayudarte a pulir tu historia y convertirla en algo realmente especial. \n",
            "\n",
            "¡Me encantaría ayudarte a mejorar tu historia! Para hacerlo de la manera más efectiva, necesito un poco más de información. Por favor, cuéntame:\n",
            "\n",
            "* **¿Sobre qué trata tu historia?** Dame un breve resumen de la trama y los personajes principales.\n",
            "* **¿Qué te gustaría mejorar específicamente?**  Por ejemplo, ¿quieres que sea más emocionante, con personajes más profundos, un final más satisfactorio?\n",
            "* **¿Hay alguna parte de la historia que te guste especialmente o que quieras mantener?**\n",
            "* **¿Puedes compartir la historia conmigo o al menos una parte de ella?** (opcional) \n",
            "\n",
            "Cuanto más me digas, mejor podré ayudarte a pulir tu historia y convertirla en algo realmente especial. \n",
            "\n"
          ]
        },
        {
          "output_type": "error",
          "ename": "KeyboardInterrupt",
          "evalue": "Interrupted by user",
          "traceback": [
            "\u001b[0;31m---------------------------------------------------------------------------\u001b[0m",
            "\u001b[0;31mKeyboardInterrupt\u001b[0m                         Traceback (most recent call last)",
            "\u001b[0;32m<ipython-input-23-8d7e96d344e1>\u001b[0m in \u001b[0;36m<cell line: 1>\u001b[0;34m()\u001b[0m\n\u001b[0;32m----> 1\u001b[0;31m \u001b[0minfinite_chat\u001b[0m\u001b[0;34m(\u001b[0m\u001b[0;34m)\u001b[0m\u001b[0;34m\u001b[0m\u001b[0;34m\u001b[0m\u001b[0m\n\u001b[0m",
            "\u001b[0;32m<ipython-input-22-c7409956d130>\u001b[0m in \u001b[0;36minfinite_chat\u001b[0;34m()\u001b[0m\n\u001b[1;32m     11\u001b[0m   )\n\u001b[1;32m     12\u001b[0m   \u001b[0;32mwhile\u001b[0m \u001b[0;32mTrue\u001b[0m\u001b[0;34m:\u001b[0m\u001b[0;34m\u001b[0m\u001b[0;34m\u001b[0m\u001b[0m\n\u001b[0;32m---> 13\u001b[0;31m     \u001b[0muser_input\u001b[0m\u001b[0;34m=\u001b[0m \u001b[0minput\u001b[0m\u001b[0;34m(\u001b[0m\u001b[0;34m\"you: \"\u001b[0m\u001b[0;34m)\u001b[0m\u001b[0;34m\u001b[0m\u001b[0;34m\u001b[0m\u001b[0m\n\u001b[0m\u001b[1;32m     14\u001b[0m     \u001b[0;32mif\u001b[0m \u001b[0muser_input\u001b[0m\u001b[0;34m.\u001b[0m\u001b[0mlower\u001b[0m\u001b[0;34m(\u001b[0m\u001b[0;34m)\u001b[0m \u001b[0;34m==\u001b[0m \u001b[0;34m\"exit\"\u001b[0m\u001b[0;34m:\u001b[0m\u001b[0;34m\u001b[0m\u001b[0;34m\u001b[0m\u001b[0m\n\u001b[1;32m     15\u001b[0m       \u001b[0;32mbreak\u001b[0m\u001b[0;34m\u001b[0m\u001b[0;34m\u001b[0m\u001b[0m\n",
            "\u001b[0;32m/usr/local/lib/python3.10/dist-packages/ipykernel/kernelbase.py\u001b[0m in \u001b[0;36mraw_input\u001b[0;34m(self, prompt)\u001b[0m\n\u001b[1;32m    849\u001b[0m                 \u001b[0;34m\"raw_input was called, but this frontend does not support input requests.\"\u001b[0m\u001b[0;34m\u001b[0m\u001b[0;34m\u001b[0m\u001b[0m\n\u001b[1;32m    850\u001b[0m             )\n\u001b[0;32m--> 851\u001b[0;31m         return self._input_request(str(prompt),\n\u001b[0m\u001b[1;32m    852\u001b[0m             \u001b[0mself\u001b[0m\u001b[0;34m.\u001b[0m\u001b[0m_parent_ident\u001b[0m\u001b[0;34m,\u001b[0m\u001b[0;34m\u001b[0m\u001b[0;34m\u001b[0m\u001b[0m\n\u001b[1;32m    853\u001b[0m             \u001b[0mself\u001b[0m\u001b[0;34m.\u001b[0m\u001b[0m_parent_header\u001b[0m\u001b[0;34m,\u001b[0m\u001b[0;34m\u001b[0m\u001b[0;34m\u001b[0m\u001b[0m\n",
            "\u001b[0;32m/usr/local/lib/python3.10/dist-packages/ipykernel/kernelbase.py\u001b[0m in \u001b[0;36m_input_request\u001b[0;34m(self, prompt, ident, parent, password)\u001b[0m\n\u001b[1;32m    893\u001b[0m             \u001b[0;32mexcept\u001b[0m \u001b[0mKeyboardInterrupt\u001b[0m\u001b[0;34m:\u001b[0m\u001b[0;34m\u001b[0m\u001b[0;34m\u001b[0m\u001b[0m\n\u001b[1;32m    894\u001b[0m                 \u001b[0;31m# re-raise KeyboardInterrupt, to truncate traceback\u001b[0m\u001b[0;34m\u001b[0m\u001b[0;34m\u001b[0m\u001b[0m\n\u001b[0;32m--> 895\u001b[0;31m                 \u001b[0;32mraise\u001b[0m \u001b[0mKeyboardInterrupt\u001b[0m\u001b[0;34m(\u001b[0m\u001b[0;34m\"Interrupted by user\"\u001b[0m\u001b[0;34m)\u001b[0m \u001b[0;32mfrom\u001b[0m \u001b[0;32mNone\u001b[0m\u001b[0;34m\u001b[0m\u001b[0;34m\u001b[0m\u001b[0m\n\u001b[0m\u001b[1;32m    896\u001b[0m             \u001b[0;32mexcept\u001b[0m \u001b[0mException\u001b[0m \u001b[0;32mas\u001b[0m \u001b[0me\u001b[0m\u001b[0;34m:\u001b[0m\u001b[0;34m\u001b[0m\u001b[0;34m\u001b[0m\u001b[0m\n\u001b[1;32m    897\u001b[0m                 \u001b[0mself\u001b[0m\u001b[0;34m.\u001b[0m\u001b[0mlog\u001b[0m\u001b[0;34m.\u001b[0m\u001b[0mwarning\u001b[0m\u001b[0;34m(\u001b[0m\u001b[0;34m\"Invalid Message:\"\u001b[0m\u001b[0;34m,\u001b[0m \u001b[0mexc_info\u001b[0m\u001b[0;34m=\u001b[0m\u001b[0;32mTrue\u001b[0m\u001b[0;34m)\u001b[0m\u001b[0;34m\u001b[0m\u001b[0;34m\u001b[0m\u001b[0m\n",
            "\u001b[0;31mKeyboardInterrupt\u001b[0m: Interrupted by user"
          ]
        }
      ]
    },
    {
      "cell_type": "code",
      "source": [
        "print_chat_history()"
      ],
      "metadata": {
        "id": "eiB7vwIDYzHr"
      },
      "execution_count": null,
      "outputs": []
    }
  ]
}